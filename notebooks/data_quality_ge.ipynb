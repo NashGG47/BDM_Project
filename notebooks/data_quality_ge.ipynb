{
 "cells": [
  {
   "cell_type": "code",
   "execution_count": 1,
   "id": "a4954abc-1e6c-4380-942e-fb9691d043b8",
   "metadata": {},
   "outputs": [
    {
     "name": "stdout",
     "output_type": "stream",
     "text": [
      "Requirement already satisfied: great in /opt/anaconda3/lib/python3.10/site-packages (0.2.0)\n",
      "Requirement already satisfied: expectations in /opt/anaconda3/lib/python3.10/site-packages (1.0.1)\n",
      "Requirement already satisfied: Alchimia in /opt/anaconda3/lib/python3.10/site-packages (from great) (0.8.1)\n",
      "Requirement already satisfied: alembic in /opt/anaconda3/lib/python3.10/site-packages (from great) (1.13.3)\n",
      "Requirement already satisfied: appdirs in /opt/anaconda3/lib/python3.10/site-packages (from great) (1.4.4)\n",
      "Requirement already satisfied: attrs in /opt/anaconda3/lib/python3.10/site-packages (from great) (24.3.0)\n",
      "Requirement already satisfied: click in /opt/anaconda3/lib/python3.10/site-packages (from great) (8.1.7)\n",
      "Requirement already satisfied: filesystems in /opt/anaconda3/lib/python3.10/site-packages (from great) (2024.8.1)\n",
      "Requirement already satisfied: hyperlink in /opt/anaconda3/lib/python3.10/site-packages (from great) (21.0.0)\n",
      "Requirement already satisfied: Minion in /opt/anaconda3/lib/python3.10/site-packages (from great) (0.24.0)\n",
      "Requirement already satisfied: SQLAlchemy in /opt/anaconda3/lib/python3.10/site-packages (from great) (1.4.54)\n",
      "Requirement already satisfied: toml in /opt/anaconda3/lib/python3.10/site-packages (from great) (0.10.2)\n",
      "Requirement already satisfied: Twisted in /opt/anaconda3/lib/python3.10/site-packages (from great) (23.10.0)\n",
      "Requirement already satisfied: txmusicbrainz in /opt/anaconda3/lib/python3.10/site-packages (from great) (0.1.0)\n",
      "Requirement already satisfied: aiojobs<1.0 in /opt/anaconda3/lib/python3.10/site-packages (from expectations) (0.3.0)\n",
      "Requirement already satisfied: Mako in /opt/anaconda3/lib/python3.10/site-packages (from alembic->great) (1.2.3)\n",
      "Requirement already satisfied: typing-extensions>=4 in /opt/anaconda3/lib/python3.10/site-packages (from alembic->great) (4.12.2)\n",
      "Requirement already satisfied: pyrsistent in /opt/anaconda3/lib/python3.10/site-packages (from filesystems->great) (0.20.0)\n",
      "Requirement already satisfied: zope-interface in /opt/anaconda3/lib/python3.10/site-packages (from filesystems->great) (7.1.1)\n",
      "Requirement already satisfied: idna>=2.5 in /opt/anaconda3/lib/python3.10/site-packages (from hyperlink->great) (3.7)\n",
      "Requirement already satisfied: cached-property in /opt/anaconda3/lib/python3.10/site-packages (from Minion->great) (1.5.2)\n",
      "Requirement already satisfied: future in /opt/anaconda3/lib/python3.10/site-packages (from Minion->great) (1.0.0)\n",
      "Requirement already satisfied: itsdangerous in /opt/anaconda3/lib/python3.10/site-packages (from Minion->great) (2.2.0)\n",
      "Requirement already satisfied: Werkzeug in /opt/anaconda3/lib/python3.10/site-packages (from Minion->great) (2.2.3)\n",
      "Requirement already satisfied: automat>=0.8.0 in /opt/anaconda3/lib/python3.10/site-packages (from Twisted->great) (20.2.0)\n",
      "Requirement already satisfied: constantly>=15.1 in /opt/anaconda3/lib/python3.10/site-packages (from Twisted->great) (23.10.4)\n",
      "Requirement already satisfied: incremental>=22.10.0 in /opt/anaconda3/lib/python3.10/site-packages (from Twisted->great) (22.10.0)\n",
      "Requirement already satisfied: six in /opt/anaconda3/lib/python3.10/site-packages (from automat>=0.8.0->Twisted->great) (1.16.0)\n",
      "Requirement already satisfied: setuptools in /opt/anaconda3/lib/python3.10/site-packages (from zope-interface->filesystems->great) (75.8.0)\n",
      "Requirement already satisfied: MarkupSafe>=0.9.2 in /opt/anaconda3/lib/python3.10/site-packages (from Mako->alembic->great) (3.0.2)\n",
      "Note: you may need to restart the kernel to use updated packages.\n"
     ]
    }
   ],
   "source": [
    "pip install great expectations"
   ]
  },
  {
   "cell_type": "code",
   "execution_count": 2,
   "id": "f42e564c-a317-409e-853b-3bb8e660fce0",
   "metadata": {},
   "outputs": [],
   "source": [
    "import great_expectations as gx\n",
    "import pandas as pd\n",
    "import os\n",
    "import sys\n",
    "current_dir = os.getcwd()\n",
    "sys.path.append(os.path.abspath(os.path.join(current_dir, '..')))"
   ]
  },
  {
   "cell_type": "code",
   "execution_count": 4,
   "id": "ef2d6c83-c832-4010-867c-edea8b7b53db",
   "metadata": {},
   "outputs": [
    {
     "name": "stdout",
     "output_type": "stream",
     "text": [
      "EphemeralDataContext\n"
     ]
    }
   ],
   "source": [
    "context = gx.get_context()\n",
    "print(type(context).__name__)"
   ]
  },
  {
   "cell_type": "code",
   "execution_count": 5,
   "id": "4b425cee-266a-4e9e-a82f-da24931aeaac",
   "metadata": {},
   "outputs": [
    {
     "name": "stdout",
     "output_type": "stream",
     "text": [
      "['DOLLAR_SIGN_ESCAPE_STRING', 'GLOBAL_CONFIG_PATHS', '_ETC_CONF_DIR', '_ETC_CONF_FILE', '_ROOT_CONF_DIR', '_ROOT_CONF_FILE', '__abstractmethods__', '__annotations__', '__class__', '__delattr__', '__dict__', '__dir__', '__doc__', '__eq__', '__format__', '__ge__', '__getattribute__', '__gt__', '__hash__', '__init__', '__init_subclass__', '__le__', '__lt__', '__module__', '__ne__', '__new__', '__reduce__', '__reduce_ex__', '__repr__', '__setattr__', '__sizeof__', '__slots__', '__str__', '__subclasshook__', '__weakref__', '_abc_impl', '_add_datasource', '_add_fluent_datasource', '_attach_fluent_config_datasources_and_build_data_connectors', '_build_data_docs', '_build_store_from_config', '_checkpoints', '_clean_data_docs_site', '_config_provider', '_config_variables', '_construct_data_context_id', '_data_context_id', '_data_sources', '_datasource_store', '_datasources', '_delete_fluent_datasource', '_determine_analytics_enabled', '_get_batch_list_from_inputs', '_get_expectation_suite_from_inputs', '_get_global_config_value', '_get_last_batch', '_get_metric_configuration_tuples', '_get_oss_id', '_in_memory_instance_id', '_include_rendered_content', '_init_analytics', '_init_config_provider', '_init_data_source_manager', '_init_datasource_store', '_init_datasources', '_init_primary_stores', '_init_project_config', '_init_site_builder_for_data_docs_site_creation', '_init_variables', '_load_config_variables', '_load_fluent_config', '_load_site_builder_from_site_config', '_normalize_absolute_or_relative_path', '_open_data_docs', '_open_url_in_browser', '_project_config', '_register_providers', '_save_project_config', '_scaffold_root_conf', '_set_oss_id', '_store_metrics', '_stores', '_suite_parameter_dependencies', '_suites', '_synchronize_fluent_datasources', '_update_config_variables', '_update_fluent_datasource', '_user_agent_str', '_validate_add_datasource_args', '_validate_datasource_names', '_validation_definitions', '_variables', '_view_validation_result', 'add_data_docs_site', 'add_datasource', 'add_or_update_datasource', 'add_store', 'build_batch_kwargs', 'build_data_docs', 'checkpoint_store', 'checkpoint_store_name', 'checkpoints', 'clean_data_docs', 'config', 'config_provider', 'config_variables', 'convert_to_file_context', 'data_context_id', 'data_sources', 'datasource_store', 'delete_data_docs_site', 'delete_datasource', 'delete_store', 'enable_analytics', 'escape_all_config_variables', 'expectations_store', 'expectations_store_name', 'fluent_config', 'fluent_datasources', 'get_available_data_asset_names', 'get_config', 'get_config_with_variables_substituted', 'get_datasource', 'get_docs_sites_urls', 'get_last_batch', 'get_or_create_data_context_config', 'get_site_names', 'get_validation_result', 'get_validator', 'get_validator_using_batch_list', 'instance_id', 'list_active_stores', 'list_data_docs_sites', 'list_datasources', 'list_stores', 'mode', 'open_data_docs', 'plugins_directory', 'prepare_checkpoint_run', 'progress_bars', 'project_config_with_variables_substituted', 'root_directory', 'runtime_environment', 'save_config_variable', 'set_config', 'set_user_agent_str', 'store_validation_result_metrics', 'stores', 'suites', 'update_data_docs_site', 'update_datasource', 'update_project_config', 'validation_definition_store', 'validation_definitions', 'validation_results_store', 'validation_results_store_name', 'variables', 'view_validation_result']\n"
     ]
    }
   ],
   "source": [
    "print(dir(context))"
   ]
  },
  {
   "cell_type": "code",
   "execution_count": 6,
   "id": "eaec1a0d",
   "metadata": {},
   "outputs": [],
   "source": [
    "from influxdb_client import InfluxDBClient\n",
    "INFLUX_URL = \"http://localhost:8086\"\n",
    "INFLUX_TOKEN = \"token1\"\n",
    "INFLUX_ORG = \"upa\"\n",
    "INFLUX_AQ_BUCKET = \"air_quality\"\n",
    "INFLUX_INC_BUCKET = \"gencat_incidents\"\n",
    "\n"
   ]
  },
  {
   "cell_type": "code",
   "execution_count": 7,
   "id": "5310d32f-96a2-4711-86e9-0ca6fd105fd8",
   "metadata": {},
   "outputs": [],
   "source": [
    "import great_expectations as ge\n",
    "\n",
    "# Create an in-memory GX context\n",
    "context = ge.get_context(mode=\"ephemeral\")\n"
   ]
  },
  {
   "cell_type": "code",
   "execution_count": 8,
   "id": "950760ea",
   "metadata": {},
   "outputs": [
    {
     "name": "stdout",
     "output_type": "stream",
     "text": [
      "                       time value        lat       lon description  \\\n",
      "0 2025-05-18 18:57:53+00:00  None  41.729851  2.622254        None   \n",
      "1 2025-05-09 13:12:16+00:00  None  41.567044  1.963011        None   \n",
      "2 2025-05-16 13:46:20+00:00  None  41.158315  1.226274        None   \n",
      "3 2025-05-18 18:56:43+00:00  None  41.438174  2.002154        None   \n",
      "4 2025-05-18 15:13:49+00:00  None  41.413690  2.222754        None   \n",
      "5 2025-05-15 05:00:00+00:00  None  42.209008  2.539497        None   \n",
      "6 2025-05-16 13:45:17+00:00  None  41.158315  1.226274        None   \n",
      "7 2025-05-13 10:50:31+00:00  None  40.718611  0.562525        None   \n",
      "8 2025-05-15 05:00:00+00:00  None  42.204180  2.704577        None   \n",
      "9 2025-05-16 12:58:49+00:00  None  41.085776  1.076262        None   \n",
      "\n",
      "                                    cause       direction incident_id  \n",
      "0                                  Avaria      Decreixent   140097801  \n",
      "1                             Carril BICI  Ambdos sentits   135087104  \n",
      "2  Carril en sentit contrari a l'habitual        Creixent   139844705  \n",
      "3  Carril en sentit contrari a l'habitual      Decreixent   140089207  \n",
      "4                              Circulació      Decreixent   140093401  \n",
      "5                    Manteniment de ponts        Creixent   140024301  \n",
      "6                              Reasfaltat        Creixent   139805405  \n",
      "7        Reparació de juntes de dilatació        Creixent   139984701  \n",
      "8                  Treballs de jardineria  Ambdos sentits   140023901  \n",
      "9                 Treballs de manteniment        Creixent   140006802  \n"
     ]
    }
   ],
   "source": [
    "def query_traffic():\n",
    "    client = InfluxDBClient(url=INFLUX_URL, token=INFLUX_TOKEN, org=INFLUX_ORG)\n",
    "    query = f'''\n",
    "    from(bucket: \"{INFLUX_INC_BUCKET}\")\n",
    "        |> range(start: -100y)\n",
    "        |> filter(fn: (r) => r._measurement == \"traffic_incidents\")\n",
    "        |> filter(fn: (r) => r._field == \"lat\" or r._field == \"lon\" or r._field == \"value\")\n",
    "        |> pivot(rowKey:[\"_time\"], columnKey: [\"_field\"], valueColumn: \"_value\")\n",
    "    '''\n",
    "    tables = client.query_api().query(query)\n",
    "    results = []\n",
    "    for table in tables:\n",
    "        for record in table.records:\n",
    "            results.append({\n",
    "                \"time\": record.get_time(),\n",
    "                # \"field\": record.get_field(),  # <-- remove this, no longer available after pivot\n",
    "                \"value\": record.values.get(\"value\"),\n",
    "                \"lat\": record.values.get(\"lat\"),\n",
    "                \"lon\": record.values.get(\"lon\"),\n",
    "                \"description\": record.values.get(\"description\"),\n",
    "                \"cause\": record.values.get(\"cause\"),\n",
    "                \"direction\": record.values.get(\"direction\"),\n",
    "                \"incident_id\": record.values.get(\"incident_id\")\n",
    "            })\n",
    "    client.close()\n",
    "    return pd.DataFrame(results)\n",
    "\n",
    "df_traffic = query_traffic()\n",
    "print(df_traffic)\n"
   ]
  },
  {
   "cell_type": "code",
   "execution_count": 9,
   "id": "fa705fee",
   "metadata": {},
   "outputs": [],
   "source": [
    "\n",
    "data_source_name = \"traffic_source\"\n",
    "data_source = context.data_sources.add_pandas(name= data_source_name)\n",
    "data_source = context.data_sources.get(data_source_name)\n",
    "data_asset_name = \"df_traffic\"\n",
    "data_asset = data_source.add_dataframe_asset(name=data_asset_name)\n",
    "batch_definition_name = \"traffic_batch_def\"\n",
    "batch_definition = data_asset.add_batch_definition_whole_dataframe(\n",
    "    batch_definition_name\n",
    ")\n",
    "batch_parameters = {\"dataframe\": df_traffic}\n",
    "batch_definition = (\n",
    "    context.data_sources.get(data_source_name)\n",
    "    .get_asset(data_asset_name)\n",
    "    .get_batch_definition(batch_definition_name)\n",
    ")\n",
    "\n",
    "try:\n",
    "    batch_definition = data_asset.get_batch_definition(batch_definition_name)\n",
    "except KeyError:\n",
    "    batch_definition = data_asset.add_batch_definition_whole_dataframe(batch_definition_name)\n",
    "\n",
    "batch = batch_definition.get_batch(batch_parameters=batch_parameters)\n",
    "\n",
    "\n",
    "\n",
    "expectation_lat_notnull = ge.expectations.ExpectColumnValuesToNotBeNull(\n",
    "    column=\"lat\"\n",
    ")\n",
    "expectation_long_notnull = ge.expectations.ExpectColumnValuesToNotBeNull(\n",
    "    column=\"long\"\n",
    ")\n",
    "expectation_lat_values_between = ge.expectations.ExpectColumnValuesToBeBetween(\n",
    "    column=\"lat\", max_value=90, min_value=-90\n",
    ")\n",
    "expectation_long_values_between = ge.expectations.ExpectColumnValuesToBeBetween(\n",
    "    column=\"long\", max_value=180, min_value=-180\n",
    ")\n",
    "expectation_cause_notnull = ge.expectations.ExpectColumnValuesToNotBeNull(\n",
    "    column=\"cause\"\n",
    ")\n",
    "expectation_time_notnull = ge.expectations.ExpectColumnValuesToNotBeNull(\n",
    "    column=\"time\"\n",
    ")\n",
    "\n",
    "expectation_cause_type = ge.expectations.ExpectColumnValuesToBeOfType(\n",
    "    column = \"cause\", type_=\"str\"\n",
    ")\n",
    "\n",
    "\n",
    "\n"
   ]
  },
  {
   "cell_type": "code",
   "execution_count": 10,
   "id": "d5af9886",
   "metadata": {},
   "outputs": [],
   "source": [
    "batch = batch_definition.get_batch(batch_parameters=batch_parameters)"
   ]
  },
  {
   "cell_type": "code",
   "execution_count": 11,
   "id": "6cebc61b",
   "metadata": {},
   "outputs": [
    {
     "data": {
      "application/vnd.jupyter.widget-view+json": {
       "model_id": "9b605f115af34578be76b02cbc91e9ee",
       "version_major": 2,
       "version_minor": 0
      },
      "text/plain": [
       "Calculating Metrics:   0%|          | 0/8 [00:00<?, ?it/s]"
      ]
     },
     "metadata": {},
     "output_type": "display_data"
    },
    {
     "data": {
      "application/vnd.jupyter.widget-view+json": {
       "model_id": "9c862c3ffbc747f8b94e5f2a10163b9a",
       "version_major": 2,
       "version_minor": 0
      },
      "text/plain": [
       "Calculating Metrics:   0%|          | 0/8 [00:00<?, ?it/s]"
      ]
     },
     "metadata": {},
     "output_type": "display_data"
    },
    {
     "data": {
      "application/vnd.jupyter.widget-view+json": {
       "model_id": "fd5d4a67b2214d2a98b2514ed8022de2",
       "version_major": 2,
       "version_minor": 0
      },
      "text/plain": [
       "Calculating Metrics:   0%|          | 0/10 [00:00<?, ?it/s]"
      ]
     },
     "metadata": {},
     "output_type": "display_data"
    },
    {
     "data": {
      "application/vnd.jupyter.widget-view+json": {
       "model_id": "b61a23e9332e48759c9adf6c294b2070",
       "version_major": 2,
       "version_minor": 0
      },
      "text/plain": [
       "Calculating Metrics:   0%|          | 0/10 [00:00<?, ?it/s]"
      ]
     },
     "metadata": {},
     "output_type": "display_data"
    },
    {
     "data": {
      "application/vnd.jupyter.widget-view+json": {
       "model_id": "94ca31a669c64f5c8fe1c76dc7f3407c",
       "version_major": 2,
       "version_minor": 0
      },
      "text/plain": [
       "Calculating Metrics:   0%|          | 0/8 [00:00<?, ?it/s]"
      ]
     },
     "metadata": {},
     "output_type": "display_data"
    },
    {
     "data": {
      "application/vnd.jupyter.widget-view+json": {
       "model_id": "6d4e1f24e175473581d9944246bd7321",
       "version_major": 2,
       "version_minor": 0
      },
      "text/plain": [
       "Calculating Metrics:   0%|          | 0/8 [00:00<?, ?it/s]"
      ]
     },
     "metadata": {},
     "output_type": "display_data"
    },
    {
     "data": {
      "application/vnd.jupyter.widget-view+json": {
       "model_id": "6d45579c71e9436cb5212bf1f32420da",
       "version_major": 2,
       "version_minor": 0
      },
      "text/plain": [
       "Calculating Metrics:   0%|          | 0/10 [00:00<?, ?it/s]"
      ]
     },
     "metadata": {},
     "output_type": "display_data"
    },
    {
     "name": "stdout",
     "output_type": "stream",
     "text": [
      "Expectation 1: {\n",
      "  \"type\": \"expect_column_values_to_not_be_null\",\n",
      "  \"kwargs\": {\n",
      "    \"batch_id\": \"traffic_source-df_traffic\",\n",
      "    \"column\": \"lat\"\n",
      "  },\n",
      "  \"meta\": {}\n",
      "}\n",
      "Success: True\n",
      "Result: {'element_count': 10, 'unexpected_count': 0, 'unexpected_percent': 0.0, 'partial_unexpected_list': [], 'partial_unexpected_counts': [], 'partial_unexpected_index_list': []}\n",
      "==================================================\n",
      "Expectation 2: {\n",
      "  \"type\": \"expect_column_values_to_not_be_null\",\n",
      "  \"kwargs\": {\n",
      "    \"column\": \"long\",\n",
      "    \"batch_id\": \"traffic_source-df_traffic\"\n",
      "  },\n",
      "  \"meta\": {}\n",
      "}\n",
      "Success: False\n",
      "Result: {}\n",
      "==================================================\n",
      "Expectation 3: {\n",
      "  \"type\": \"expect_column_values_to_be_between\",\n",
      "  \"kwargs\": {\n",
      "    \"batch_id\": \"traffic_source-df_traffic\",\n",
      "    \"column\": \"lat\",\n",
      "    \"min_value\": -90.0,\n",
      "    \"max_value\": 90.0\n",
      "  },\n",
      "  \"meta\": {}\n",
      "}\n",
      "Success: True\n",
      "Result: {'element_count': 10, 'unexpected_count': 0, 'unexpected_percent': 0.0, 'partial_unexpected_list': [], 'missing_count': 0, 'missing_percent': 0.0, 'unexpected_percent_total': 0.0, 'unexpected_percent_nonmissing': 0.0, 'partial_unexpected_counts': [], 'partial_unexpected_index_list': []}\n",
      "==================================================\n",
      "Expectation 4: {\n",
      "  \"type\": \"expect_column_values_to_be_between\",\n",
      "  \"kwargs\": {\n",
      "    \"column\": \"long\",\n",
      "    \"min_value\": -180.0,\n",
      "    \"max_value\": 180.0,\n",
      "    \"batch_id\": \"traffic_source-df_traffic\"\n",
      "  },\n",
      "  \"meta\": {}\n",
      "}\n",
      "Success: False\n",
      "Result: {}\n",
      "==================================================\n",
      "Expectation 5: {\n",
      "  \"type\": \"expect_column_values_to_not_be_null\",\n",
      "  \"kwargs\": {\n",
      "    \"batch_id\": \"traffic_source-df_traffic\",\n",
      "    \"column\": \"cause\"\n",
      "  },\n",
      "  \"meta\": {}\n",
      "}\n",
      "Success: True\n",
      "Result: {'element_count': 10, 'unexpected_count': 0, 'unexpected_percent': 0.0, 'partial_unexpected_list': [], 'partial_unexpected_counts': [], 'partial_unexpected_index_list': []}\n",
      "==================================================\n",
      "Expectation 6: {\n",
      "  \"type\": \"expect_column_values_to_not_be_null\",\n",
      "  \"kwargs\": {\n",
      "    \"batch_id\": \"traffic_source-df_traffic\",\n",
      "    \"column\": \"time\"\n",
      "  },\n",
      "  \"meta\": {}\n",
      "}\n",
      "Success: True\n",
      "Result: {'element_count': 10, 'unexpected_count': 0, 'unexpected_percent': 0.0, 'partial_unexpected_list': [], 'partial_unexpected_counts': [], 'partial_unexpected_index_list': []}\n",
      "==================================================\n",
      "Expectation 7: {\n",
      "  \"type\": \"expect_column_values_to_be_of_type\",\n",
      "  \"kwargs\": {\n",
      "    \"batch_id\": \"traffic_source-df_traffic\",\n",
      "    \"column\": \"cause\",\n",
      "    \"type_\": \"str\"\n",
      "  },\n",
      "  \"meta\": {}\n",
      "}\n",
      "Success: True\n",
      "Result: {'element_count': 10, 'unexpected_count': 0, 'unexpected_percent': 0.0, 'partial_unexpected_list': [], 'missing_count': 0, 'missing_percent': 0.0, 'unexpected_percent_total': 0.0, 'unexpected_percent_nonmissing': 0.0, 'partial_unexpected_counts': [], 'partial_unexpected_index_list': []}\n",
      "==================================================\n"
     ]
    }
   ],
   "source": [
    "validation_results=[]\n",
    "validation_results.append(batch.validate(expectation_lat_notnull))\n",
    "validation_results.append(batch.validate(expectation_long_notnull))\n",
    "validation_results.append(batch.validate(expectation_lat_values_between))\n",
    "validation_results.append(batch.validate(expectation_long_values_between))\n",
    "validation_results.append(batch.validate(expectation_cause_notnull))\n",
    "validation_results.append(batch.validate(expectation_time_notnull))\n",
    "validation_results.append(batch.validate(expectation_cause_type))\n",
    "\n",
    "\n",
    "for i, result in enumerate(validation_results, start=1):\n",
    "    print(f\"Expectation {i}: {result['expectation_config']}\")\n",
    "    print(f\"Success: {result['success']}\")\n",
    "    print(f\"Result: {result['result']}\")\n",
    "    print(\"=\" * 50)"
   ]
  }
 ],
 "metadata": {
  "kernelspec": {
   "display_name": "base",
   "language": "python",
   "name": "python3"
  },
  "language_info": {
   "codemirror_mode": {
    "name": "ipython",
    "version": 3
   },
   "file_extension": ".py",
   "mimetype": "text/x-python",
   "name": "python",
   "nbconvert_exporter": "python",
   "pygments_lexer": "ipython3",
   "version": "3.10.8"
  }
 },
 "nbformat": 4,
 "nbformat_minor": 5
}
