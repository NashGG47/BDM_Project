{
 "cells": [
  {
   "cell_type": "code",
   "execution_count": 7,
   "id": "7ff9da75",
   "metadata": {},
   "outputs": [],
   "source": [
    "import boto3\n",
    "import pandas as pd\n",
    "import great_expectations as gx\n",
    "from pathlib import Path\n",
    "import tempfile\n",
    "import os"
   ]
  },
  {
   "cell_type": "code",
   "execution_count": 8,
   "id": "8ae776e0",
   "metadata": {},
   "outputs": [],
   "source": [
    "# Configuración de MinIO\n",
    "MINIO_ENDPOINT = \"localhost:9000\"\n",
    "MINIO_ACCESS_KEY = \"admin\"\n",
    "MINIO_SECRET_KEY = \"admin123\"\n",
    "BUCKET_NAME = \"trusted-zone\"\n",
    "OBJECT_KEY = \"storage/social_media/bluesky/posts_clean.parquet\""
   ]
  },
  {
   "cell_type": "code",
   "execution_count": 9,
   "id": "1b601129",
   "metadata": {},
   "outputs": [],
   "source": [
    "# Ruta temporal para guardar el .parquet descargado\n",
    "temp_dir = tempfile.gettempdir()\n",
    "local_file_path = os.path.join(temp_dir, \"posts_clean.parquet\")"
   ]
  },
  {
   "cell_type": "code",
   "execution_count": 10,
   "id": "69c5cc60",
   "metadata": {},
   "outputs": [],
   "source": [
    "# Cliente de MinIO (compatible S3)\n",
    "s3 = boto3.client(\n",
    "    \"s3\",\n",
    "    endpoint_url=f\"http://{MINIO_ENDPOINT}\",\n",
    "    aws_access_key_id=MINIO_ACCESS_KEY,\n",
    "    aws_secret_access_key=MINIO_SECRET_KEY,\n",
    ")"
   ]
  },
  {
   "cell_type": "code",
   "execution_count": 19,
   "id": "795c5303",
   "metadata": {
    "lines_to_next_cell": 2
   },
   "outputs": [
    {
     "name": "stdout",
     "output_type": "stream",
     "text": [
      "File:  storage/social_media/bluesky/failed_log.json\n",
      "File:  storage/social_media/bluesky/images/catalannews.com_20250606_115521_0.jpg\n",
      "File:  storage/social_media/bluesky/images/catalannews.com_20250606_151445_0.jpg\n",
      "File:  storage/social_media/bluesky/images/catalannews.com_20250606_171031_0.jpg\n",
      "File:  storage/social_media/bluesky/images/catalannews.com_20250607_111911_0.jpg\n",
      "File:  storage/social_media/bluesky/images/catalannews.com_20250607_131108_0.jpg\n",
      "File:  storage/social_media/bluesky/images/elpais.com_20250520_155654_0.jpg\n",
      "File:  storage/social_media/bluesky/images/elpais.com_20250520_161808_0.jpg\n",
      "File:  storage/social_media/bluesky/images/elpais.com_20250520_163814_0.jpg\n",
      "File:  storage/social_media/bluesky/images/elpais.com_20250606_124000_0.jpg\n",
      "File:  storage/social_media/bluesky/images/elpais.com_20250606_124150_0.jpg\n",
      "File:  storage/social_media/bluesky/images/elpais.com_20250606_140223_0.jpg\n",
      "File:  storage/social_media/bluesky/images/elpais.com_20250606_141710_0.jpg\n",
      "File:  storage/social_media/bluesky/images/elpais.com_20250606_142428_0.jpg\n",
      "File:  storage/social_media/bluesky/images/elpais.com_20250606_142707_0.jpg\n",
      "File:  storage/social_media/bluesky/images/elpais.com_20250606_143137_0.jpg\n",
      "File:  storage/social_media/bluesky/images/elpais.com_20250606_152000_0.jpg\n",
      "File:  storage/social_media/bluesky/images/elpais.com_20250606_152431_0.jpg\n",
      "File:  storage/social_media/bluesky/images/elpais.com_20250606_154450_0.jpg\n",
      "File:  storage/social_media/bluesky/images/elpais.com_20250606_160550_0.jpg\n",
      "File:  storage/social_media/bluesky/images/elpais.com_20250606_161913_0.jpg\n",
      "File:  storage/social_media/bluesky/images/elpais.com_20250606_162643_0.jpg\n",
      "File:  storage/social_media/bluesky/images/elpais.com_20250606_164745_0.jpg\n",
      "File:  storage/social_media/bluesky/images/elpais.com_20250606_170836_0.jpg\n",
      "File:  storage/social_media/bluesky/images/elpais.com_20250606_172907_0.jpg\n",
      "File:  storage/social_media/bluesky/images/elpais.com_20250606_174944_0.jpg\n",
      "File:  storage/social_media/bluesky/images/elpais.com_20250606_181058_0.jpg\n",
      "File:  storage/social_media/bluesky/images/elpais.com_20250606_183213_0.jpg\n",
      "File:  storage/social_media/bluesky/images/elpais.com_20250606_185329_0.jpg\n",
      "File:  storage/social_media/bluesky/images/elpais.com_20250606_191423_0.jpg\n",
      "File:  storage/social_media/bluesky/images/elpais.com_20250606_193453_0.jpg\n",
      "File:  storage/social_media/bluesky/images/elpais.com_20250606_195518_0.jpg\n",
      "File:  storage/social_media/bluesky/images/elpais.com_20250606_201641_0.jpg\n",
      "File:  storage/social_media/bluesky/images/elpais.com_20250606_203801_0.jpg\n",
      "File:  storage/social_media/bluesky/images/elpais.com_20250607_112852_0.jpg\n",
      "File:  storage/social_media/bluesky/images/elpais.com_20250607_114907_0.jpg\n",
      "File:  storage/social_media/bluesky/images/elpais.com_20250607_121014_0.jpg\n",
      "File:  storage/social_media/bluesky/images/elpais.com_20250607_123050_0.jpg\n",
      "File:  storage/social_media/bluesky/images/elpais.com_20250607_125115_0.jpg\n",
      "File:  storage/social_media/bluesky/images/elpais.com_20250607_131154_0.jpg\n",
      "File:  storage/social_media/bluesky/images/elpais.com_20250607_133223_0.jpg\n",
      "File:  storage/social_media/bluesky/images/elpais.com_20250607_135336_0.jpg\n",
      "File:  storage/social_media/bluesky/images/elpais.com_20250607_141500_0.jpg\n",
      "File:  storage/social_media/bluesky/images/elpais.com_20250607_143628_0.jpg\n",
      "File:  storage/social_media/bluesky/images/elpais.com_20250607_145708_0.jpg\n",
      "File:  storage/social_media/bluesky/images/elpais.com_20250607_160243_0.jpg\n",
      "File:  storage/social_media/bluesky/images/elpais.com_20250607_160940_0.jpg\n",
      "File:  storage/social_media/bluesky/images/elpais.com_20250607_162258_0.jpg\n",
      "File:  storage/social_media/bluesky/images/elpais.com_20250607_164421_0.jpg\n",
      "File:  storage/social_media/bluesky/images/elpais.com_20250607_170535_0.jpg\n",
      "File:  storage/social_media/bluesky/images/elpais.com_20250607_172705_0.jpg\n",
      "File:  storage/social_media/bluesky/images/elpais.com_20250607_174831_0.jpg\n",
      "File:  storage/social_media/bluesky/images/elpais.com_20250607_180921_0.jpg\n",
      "File:  storage/social_media/bluesky/images/elpais.com_20250607_182931_0.jpg\n",
      "File:  storage/social_media/bluesky/images/elpais.com_20250607_185010_0.jpg\n",
      "File:  storage/social_media/bluesky/images/elpais.com_20250607_185939_0.jpg\n",
      "File:  storage/social_media/bluesky/images/elpais.com_20250607_191136_0.jpg\n",
      "File:  storage/social_media/bluesky/images/elpais.com_20250607_193157_0.jpg\n",
      "File:  storage/social_media/bluesky/images/elpais.com_20250607_195206_0.jpg\n",
      "File:  storage/social_media/bluesky/images/elperiodico.com_20250606_153933_0.jpg\n",
      "File:  storage/social_media/bluesky/images/elperiodico.com_20250606_160524_0.jpg\n",
      "File:  storage/social_media/bluesky/images/elperiodico.com_20250606_164524_0.jpg\n",
      "File:  storage/social_media/bluesky/images/elperiodico.com_20250606_171738_0.jpg\n",
      "File:  storage/social_media/bluesky/images/elperiodico.com_20250606_174912_0.jpg\n",
      "File:  storage/social_media/bluesky/images/elperiodico.com_20250606_175452_0.jpg\n",
      "File:  storage/social_media/bluesky/images/elperiodico.com_20250606_183104_0.jpg\n",
      "File:  storage/social_media/bluesky/images/elperiodico.com_20250606_185652_0.jpg\n",
      "File:  storage/social_media/bluesky/images/elperiodico.com_20250606_223540_0.jpg\n",
      "File:  storage/social_media/bluesky/images/elperiodico.com_20250607_112701_0.jpg\n",
      "File:  storage/social_media/bluesky/images/elperiodico.com_20250607_113948_0.jpg\n",
      "File:  storage/social_media/bluesky/images/elperiodico.com_20250607_120440_0.jpg\n",
      "File:  storage/social_media/bluesky/images/elperiodico.com_20250607_123551_0.jpg\n",
      "File:  storage/social_media/bluesky/images/elperiodico.com_20250607_125910_0.jpg\n",
      "File:  storage/social_media/bluesky/images/elperiodico.com_20250607_134437_0.jpg\n",
      "File:  storage/social_media/bluesky/images/elperiodico.com_20250607_141537_0.jpg\n",
      "File:  storage/social_media/bluesky/images/elperiodico.com_20250607_143207_0.jpg\n",
      "File:  storage/social_media/bluesky/images/elperiodico.com_20250607_145139_0.jpg\n",
      "File:  storage/social_media/bluesky/images/elperiodico.com_20250607_150933_0.jpg\n",
      "File:  storage/social_media/bluesky/images/elperiodico.com_20250607_153205_0.jpg\n",
      "File:  storage/social_media/bluesky/images/elperiodico.com_20250607_155822_0.jpg\n",
      "File:  storage/social_media/bluesky/images/elperiodico.com_20250607_163323_0.jpg\n",
      "File:  storage/social_media/bluesky/images/elperiodico.com_20250607_165848_0.jpg\n",
      "File:  storage/social_media/bluesky/images/elperiodico.com_20250607_173310_0.jpg\n",
      "File:  storage/social_media/bluesky/images/elperiodico.com_20250607_180954_0.jpg\n",
      "File:  storage/social_media/bluesky/images/lavanguardia.com_20250607_135411_0.jpg\n",
      "File:  storage/social_media/bluesky/images/oriolpj.bsky.social_20250607_122813_0.jpg\n",
      "File:  storage/social_media/bluesky/images/renfeoperadora.bsky.social_20250606_155811_0.jpg\n",
      "File:  storage/social_media/bluesky/images/transportpublic.bsky.social_20250606_165433_0.jpg\n",
      "File:  storage/social_media/bluesky/images/vilaweb.cat_20250520_160403_0.jpg\n",
      "File:  storage/social_media/bluesky/images/vilaweb.cat_20250520_161724_0.jpg\n",
      "File:  storage/social_media/bluesky/images/vilaweb.cat_20250520_163047_0.jpg\n",
      "File:  storage/social_media/bluesky/images/vilaweb.cat_20250606_140401_0.jpg\n",
      "File:  storage/social_media/bluesky/images/vilaweb.cat_20250606_141124_0.jpg\n",
      "File:  storage/social_media/bluesky/images/vilaweb.cat_20250606_142422_0.jpg\n",
      "File:  storage/social_media/bluesky/images/vilaweb.cat_20250606_143057_0.jpg\n",
      "File:  storage/social_media/bluesky/images/vilaweb.cat_20250606_143153_0.jpg\n",
      "File:  storage/social_media/bluesky/images/vilaweb.cat_20250606_151324_0.jpg\n",
      "File:  storage/social_media/bluesky/images/vilaweb.cat_20250606_152039_0.jpg\n",
      "File:  storage/social_media/bluesky/images/vilaweb.cat_20250606_153138_0.jpg\n",
      "File:  storage/social_media/bluesky/images/vilaweb.cat_20250606_154024_0.jpg\n",
      "File:  storage/social_media/bluesky/images/vilaweb.cat_20250606_160417_0.jpg\n",
      "File:  storage/social_media/bluesky/images/vilaweb.cat_20250606_162427_0.jpg\n",
      "File:  storage/social_media/bluesky/images/vilaweb.cat_20250606_162937_0.jpg\n",
      "File:  storage/social_media/bluesky/images/vilaweb.cat_20250606_162949_0.jpg\n",
      "File:  storage/social_media/bluesky/images/vilaweb.cat_20250606_170219_0.jpg\n",
      "File:  storage/social_media/bluesky/images/vilaweb.cat_20250606_173919_0.jpg\n",
      "File:  storage/social_media/bluesky/images/vilaweb.cat_20250606_174331_0.jpg\n",
      "File:  storage/social_media/bluesky/images/vilaweb.cat_20250606_175921_0.jpg\n",
      "File:  storage/social_media/bluesky/images/vilaweb.cat_20250606_180311_0.jpg\n",
      "File:  storage/social_media/bluesky/images/vilaweb.cat_20250606_181536_0.jpg\n",
      "File:  storage/social_media/bluesky/images/vilaweb.cat_20250606_183138_0.jpg\n",
      "File:  storage/social_media/bluesky/images/vilaweb.cat_20250606_184643_0.jpg\n",
      "File:  storage/social_media/bluesky/images/vilaweb.cat_20250606_200318_0.jpg\n",
      "File:  storage/social_media/bluesky/images/vilaweb.cat_20250607_120254_0.jpg\n",
      "File:  storage/social_media/bluesky/images/vilaweb.cat_20250607_122919_0.jpg\n",
      "File:  storage/social_media/bluesky/images/vilaweb.cat_20250607_124117_0.jpg\n",
      "File:  storage/social_media/bluesky/images/vilaweb.cat_20250607_130155_0.jpg\n",
      "File:  storage/social_media/bluesky/images/vilaweb.cat_20250607_132204_0.jpg\n",
      "File:  storage/social_media/bluesky/images/vilaweb.cat_20250607_134524_0.jpg\n",
      "File:  storage/social_media/bluesky/images/vilaweb.cat_20250607_140238_0.jpg\n",
      "File:  storage/social_media/bluesky/images/vilaweb.cat_20250607_145705_0.jpg\n",
      "File:  storage/social_media/bluesky/images/vilaweb.cat_20250607_150344_0.jpg\n",
      "File:  storage/social_media/bluesky/images/vilaweb.cat_20250607_160803_0.jpg\n",
      "File:  storage/social_media/bluesky/images/vilaweb.cat_20250607_161148_0.jpg\n",
      "File:  storage/social_media/bluesky/images/vilaweb.cat_20250607_162419_0.jpg\n",
      "File:  storage/social_media/bluesky/images/vilaweb.cat_20250607_163720_0.jpg\n",
      "File:  storage/social_media/bluesky/images/vilaweb.cat_20250607_165437_0.jpg\n",
      "File:  storage/social_media/bluesky/images/vilaweb.cat_20250607_170219_0.jpg\n",
      "File:  storage/social_media/bluesky/images/vilaweb.cat_20250607_170719_0.jpg\n",
      "File:  storage/social_media/bluesky/images/vilaweb.cat_20250607_173919_0.jpg\n",
      "File:  storage/social_media/bluesky/images/vilaweb.cat_20250607_174920_0.jpg\n",
      "File:  storage/social_media/bluesky/images/vilaweb.cat_20250607_180200_0.jpg\n",
      "File:  storage/social_media/bluesky/images/vilaweb.cat_20250607_184157_0.jpg\n",
      "File:  storage/social_media/bluesky/images/vilaweb.cat_20250607_190203_0.jpg\n",
      "File:  storage/social_media/bluesky/metadata.json\n",
      "File:  storage/social_media/bluesky/posts_clean.parquet\n"
     ]
    },
    {
     "name": "stderr",
     "output_type": "stream",
     "text": [
      "/home/nashly/.local/lib/python3.12/site-packages/botocore/auth.py:425: DeprecationWarning: datetime.datetime.utcnow() is deprecated and scheduled for removal in a future version. Use timezone-aware objects to represent datetimes in UTC: datetime.datetime.now(datetime.UTC).\n",
      "  datetime_now = datetime.datetime.utcnow()\n"
     ]
    }
   ],
   "source": [
    "response = s3.list_objects_v2(Bucket=BUCKET_NAME, Prefix=\"storage/social_media/bluesky/\")\n",
    "for obj in response.get(\"Contents\", []):\n",
    "    print(\"File: \", obj[\"Key\"])"
   ]
  },
  {
   "cell_type": "code",
   "execution_count": 20,
   "id": "d1082336",
   "metadata": {},
   "outputs": [
    {
     "name": "stdout",
     "output_type": "stream",
     "text": [
      " Archivo descargado de MinIO: /tmp/posts_clean.parquet\n"
     ]
    }
   ],
   "source": [
    "# Descargar archivo desde MinIO\n",
    "s3.download_file(BUCKET_NAME, OBJECT_KEY, local_file_path)\n",
    "print(f\" Archivo descargado de MinIO: {local_file_path}\")"
   ]
  },
  {
   "cell_type": "code",
   "execution_count": 21,
   "id": "88c9bf0b",
   "metadata": {},
   "outputs": [],
   "source": [
    "# Cargar el DataFrame\n",
    "df = pd.read_parquet(local_file_path)"
   ]
  },
  {
   "cell_type": "code",
   "execution_count": 22,
   "id": "8b32112b",
   "metadata": {},
   "outputs": [],
   "source": [
    "# Crear contexto ephemeral de Great Expectations\n",
    "context = gx.get_context(mode=\"ephemeral\")\n",
    "data_source = context.data_sources.add_pandas(name=\"minio_source\")\n",
    "data_asset = data_source.add_dataframe_asset(name=\"posts_clean\")\n",
    "batch_def = data_asset.add_batch_definition_whole_dataframe(\"minio_batch\")\n",
    "batch = batch_def.get_batch({\"dataframe\": df})"
   ]
  },
  {
   "cell_type": "code",
   "execution_count": 23,
   "id": "177923c5",
   "metadata": {},
   "outputs": [],
   "source": [
    "# Definir expectativas\n",
    "expectations = [\n",
    "    gx.expectations.ExpectColumnValuesToNotBeNull(column=\"uri\"),\n",
    "    gx.expectations.ExpectColumnValuesToNotBeNull(column=\"timestamp\"),\n",
    "    gx.expectations.ExpectColumnValuesToNotBeNull(column=\"text\"),\n",
    "    gx.expectations.ExpectColumnValuesToBeOfType(column=\"likes\", type_=\"float64\"),\n",
    "    gx.expectations.ExpectColumnValuesToBeBetween(column=\"likes\", min_value=0),\n",
    "    gx.expectations.ExpectColumnValuesToBeBetween(column=\"reposts\", min_value=0),\n",
    "    gx.expectations.ExpectColumnValuesToBeBetween(column=\"replies\", min_value=0),\n",
    "]"
   ]
  },
  {
   "cell_type": "code",
   "execution_count": 29,
   "id": "fe59896c",
   "metadata": {},
   "outputs": [
    {
     "name": "stderr",
     "output_type": "stream",
     "text": [
      "Calculating Metrics: 100%|██████████| 8/8 [00:00<00:00, 529.37it/s]\n",
      "Calculating Metrics: 100%|██████████| 8/8 [00:00<00:00, 951.66it/s] \n",
      "Calculating Metrics: 100%|██████████| 8/8 [00:00<00:00, 1172.82it/s]\n",
      "Calculating Metrics: 100%|██████████| 1/1 [00:00<00:00, 413.39it/s] \n",
      "Calculating Metrics: 100%|██████████| 10/10 [00:00<00:00, 913.79it/s] \n",
      "Calculating Metrics: 100%|██████████| 10/10 [00:00<00:00, 502.94it/s]\n",
      "Calculating Metrics: 100%|██████████| 10/10 [00:00<00:00, 969.24it/s] \n"
     ]
    }
   ],
   "source": [
    "# Ejecutar validaciones\n",
    "results = [batch.validate(expectation) for expectation in expectations]"
   ]
  },
  {
   "cell_type": "code",
   "execution_count": 27,
   "id": "90c873b1",
   "metadata": {},
   "outputs": [
    {
     "name": "stdout",
     "output_type": "stream",
     "text": [
      "\n",
      " Expectation 1: {\n",
      "  \"type\": \"expect_column_values_to_not_be_null\",\n",
      "  \"kwargs\": {\n",
      "    \"batch_id\": \"minio_source-posts_clean\",\n",
      "    \"column\": \"uri\"\n",
      "  },\n",
      "  \"meta\": {}\n",
      "}\n",
      " Success: True\n",
      " Details: {'element_count': 92, 'unexpected_count': 0, 'unexpected_percent': 0.0, 'partial_unexpected_list': [], 'partial_unexpected_counts': [], 'partial_unexpected_index_list': []}\n",
      "\n",
      " Expectation 2: {\n",
      "  \"type\": \"expect_column_values_to_not_be_null\",\n",
      "  \"kwargs\": {\n",
      "    \"batch_id\": \"minio_source-posts_clean\",\n",
      "    \"column\": \"timestamp\"\n",
      "  },\n",
      "  \"meta\": {}\n",
      "}\n",
      " Success: True\n",
      " Details: {'element_count': 92, 'unexpected_count': 0, 'unexpected_percent': 0.0, 'partial_unexpected_list': [], 'partial_unexpected_counts': [], 'partial_unexpected_index_list': []}\n",
      "\n",
      " Expectation 3: {\n",
      "  \"type\": \"expect_column_values_to_not_be_null\",\n",
      "  \"kwargs\": {\n",
      "    \"batch_id\": \"minio_source-posts_clean\",\n",
      "    \"column\": \"text\"\n",
      "  },\n",
      "  \"meta\": {}\n",
      "}\n",
      " Success: True\n",
      " Details: {'element_count': 92, 'unexpected_count': 0, 'unexpected_percent': 0.0, 'partial_unexpected_list': [], 'partial_unexpected_counts': [], 'partial_unexpected_index_list': []}\n",
      "\n",
      " Expectation 4: {\n",
      "  \"type\": \"expect_column_values_to_be_of_type\",\n",
      "  \"kwargs\": {\n",
      "    \"batch_id\": \"minio_source-posts_clean\",\n",
      "    \"column\": \"likes\",\n",
      "    \"type_\": \"float64\"\n",
      "  },\n",
      "  \"meta\": {}\n",
      "}\n",
      " Success: True\n",
      " Details: {'observed_value': 'float64'}\n",
      "\n",
      " Expectation 5: {\n",
      "  \"type\": \"expect_column_values_to_be_between\",\n",
      "  \"kwargs\": {\n",
      "    \"batch_id\": \"minio_source-posts_clean\",\n",
      "    \"column\": \"likes\",\n",
      "    \"min_value\": 0.0\n",
      "  },\n",
      "  \"meta\": {}\n",
      "}\n",
      " Success: True\n",
      " Details: {'element_count': 92, 'unexpected_count': 0, 'unexpected_percent': 0.0, 'partial_unexpected_list': [], 'missing_count': 14, 'missing_percent': 15.217391304347828, 'unexpected_percent_total': 0.0, 'unexpected_percent_nonmissing': 0.0, 'partial_unexpected_counts': [], 'partial_unexpected_index_list': []}\n",
      "\n",
      " Expectation 6: {\n",
      "  \"type\": \"expect_column_values_to_be_between\",\n",
      "  \"kwargs\": {\n",
      "    \"batch_id\": \"minio_source-posts_clean\",\n",
      "    \"column\": \"reposts\",\n",
      "    \"min_value\": 0.0\n",
      "  },\n",
      "  \"meta\": {}\n",
      "}\n",
      " Success: True\n",
      " Details: {'element_count': 92, 'unexpected_count': 0, 'unexpected_percent': 0.0, 'partial_unexpected_list': [], 'missing_count': 14, 'missing_percent': 15.217391304347828, 'unexpected_percent_total': 0.0, 'unexpected_percent_nonmissing': 0.0, 'partial_unexpected_counts': [], 'partial_unexpected_index_list': []}\n",
      "\n",
      " Expectation 7: {\n",
      "  \"type\": \"expect_column_values_to_be_between\",\n",
      "  \"kwargs\": {\n",
      "    \"batch_id\": \"minio_source-posts_clean\",\n",
      "    \"column\": \"replies\",\n",
      "    \"min_value\": 0.0\n",
      "  },\n",
      "  \"meta\": {}\n",
      "}\n",
      " Success: True\n",
      " Details: {'element_count': 92, 'unexpected_count': 0, 'unexpected_percent': 0.0, 'partial_unexpected_list': [], 'missing_count': 14, 'missing_percent': 15.217391304347828, 'unexpected_percent_total': 0.0, 'unexpected_percent_nonmissing': 0.0, 'partial_unexpected_counts': [], 'partial_unexpected_index_list': []}\n"
     ]
    }
   ],
   "source": [
    "# Mostrar resultados\n",
    "for i, result in enumerate(results, 1):\n",
    "    print(f\"\\n Expectation {i}: {result['expectation_config']}\")\n",
    "    print(f\" Success: {result['success']}\")\n",
    "    print(f\" Details: {result['result']}\")"
   ]
  },
  {
   "cell_type": "code",
   "execution_count": 28,
   "id": "ea5a14ed",
   "metadata": {},
   "outputs": [
    {
     "name": "stdout",
     "output_type": "stream",
     "text": [
      " Archivo temporal eliminado.\n"
     ]
    }
   ],
   "source": [
    "# (Opcional) Eliminar archivo temporal\n",
    "os.remove(local_file_path)\n",
    "print(\" Archivo temporal eliminado.\")"
   ]
  }
 ],
 "metadata": {
  "jupytext": {
   "cell_metadata_filter": "-all",
   "main_language": "python",
   "notebook_metadata_filter": "-all"
  },
  "language_info": {
   "name": "python"
  }
 },
 "nbformat": 4,
 "nbformat_minor": 5
}
