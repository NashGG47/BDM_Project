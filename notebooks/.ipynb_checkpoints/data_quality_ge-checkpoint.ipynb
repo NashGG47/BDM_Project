{
 "cells": [
  {
   "cell_type": "code",
   "execution_count": 1,
   "id": "a4954abc-1e6c-4380-942e-fb9691d043b8",
   "metadata": {},
   "outputs": [
    {
     "name": "stdout",
     "output_type": "stream",
     "text": [
      "Collecting great\n",
      "  Downloading great-0.2.0.tar.gz (120 kB)\n",
      "  Preparing metadata (setup.py) ... \u001b[?25done\n",
      "\u001b[?25hCollecting expectations\n",
      "  Downloading expectations-1.0.1-py3-none-any.whl.metadata (3.1 kB)\n",
      "Collecting Alchimia (from great)\n",
      "  Downloading alchimia-0.8.1-py2.py3-none-any.whl.metadata (2.8 kB)\n",
      "Requirement already satisfied: alembic in /opt/anaconda3/lib/python3.10/site-packages (from great) (1.13.3)\n",
      "Requirement already satisfied: appdirs in /opt/anaconda3/lib/python3.10/site-packages (from great) (1.4.4)\n",
      "Requirement already satisfied: attrs in /opt/anaconda3/lib/python3.10/site-packages (from great) (24.3.0)\n",
      "Requirement already satisfied: click in /opt/anaconda3/lib/python3.10/site-packages (from great) (8.1.7)\n",
      "Collecting filesystems (from great)\n",
      "  Downloading filesystems-2024.8.1-py3-none-any.whl.metadata (1.8 kB)\n",
      "Requirement already satisfied: hyperlink in /opt/anaconda3/lib/python3.10/site-packages (from great) (21.0.0)\n",
      "Collecting Minion (from great)\n",
      "  Downloading minion-0.24.0.tar.gz (25 kB)\n",
      "  Preparing metadata (setup.py) ... \u001b[?25done\n",
      "\u001b[?25hRequirement already satisfied: SQLAlchemy in /opt/anaconda3/lib/python3.10/site-packages (from great) (1.4.54)\n",
      "Requirement already satisfied: toml in /opt/anaconda3/lib/python3.10/site-packages (from great) (0.10.2)\n",
      "Requirement already satisfied: Twisted in /opt/anaconda3/lib/python3.10/site-packages (from great) (23.10.0)\n",
      "Collecting txmusicbrainz (from great)\n",
      "  Downloading txmusicbrainz-0.1.0.zip (5.3 kB)\n",
      "  Preparing metadata (setup.py) ... \u001b[?25ldone\n",
      "\u001b[?25hCollecting aiojobs<1.0 (from expectations)\n",
      "  Downloading aiojobs-0.3.0-py3-none-any.whl.metadata (3.3 kB)\n",
      "Requirement already satisfied: Mako in /opt/anaconda3/lib/python3.10/site-packages (from alembic->great) (1.2.3)\n",
      "Requirement already satisfied: typing-extensions>=4 in /opt/anaconda3/lib/python3.10/site-packages (from alembic->great) (4.12.2)\n",
      "Collecting pyrsistent (from filesystems->great)\n",
      "  Downloading pyrsistent-0.20.0-cp310-cp310-macosx_10_9_universal2.whl.metadata (27 kB)\n",
      "Requirement already satisfied: zope-interface in /opt/anaconda3/lib/python3.10/site-packages (from filesystems->great) (7.1.1)\n",
      "Requirement already satisfied: idna>=2.5 in /opt/anaconda3/lib/python3.10/site-packages (from hyperlink->great) (3.7)\n",
      "Requirement already satisfied: cached-property in /opt/anaconda3/lib/python3.10/site-packages (from Minion->great) (1.5.2)\n",
      "Collecting future (from Minion->great)\n",
      "  Downloading future-1.0.0-py3-none-any.whl.metadata (4.0 kB)\n",
      "Requirement already satisfied: itsdangerous in /opt/anaconda3/lib/python3.10/site-packages (from Minion->great) (2.2.0)\n",
      "Requirement already satisfied: Werkzeug in /opt/anaconda3/lib/python3.10/site-packages (from Minion->great) (2.2.3)\n",
      "Requirement already satisfied: automat>=0.8.0 in /opt/anaconda3/lib/python3.10/site-packages (from Twisted->great) (20.2.0)\n",
      "Requirement already satisfied: constantly>=15.1 in /opt/anaconda3/lib/python3.10/site-packages (from Twisted->great) (23.10.4)\n",
      "Requirement already satisfied: incremental>=22.10.0 in /opt/anaconda3/lib/python3.10/site-packages (from Twisted->great) (22.10.0)\n",
      "Requirement already satisfied: six in /opt/anaconda3/lib/python3.10/site-packages (from automat>=0.8.0->Twisted->great) (1.16.0)\n",
      "Requirement already satisfied: setuptools in /opt/anaconda3/lib/python3.10/site-packages (from zope-interface->filesystems->great) (75.8.0)\n",
      "Requirement already satisfied: MarkupSafe>=0.9.2 in /opt/anaconda3/lib/python3.10/site-packages (from Mako->alembic->great) (3.0.2)\n",
      "Downloading expectations-1.0.1-py3-none-any.whl (3.9 kB)\n",
      "Downloading aiojobs-0.3.0-py3-none-any.whl (10.0 kB)\n",
      "Downloading alchimia-0.8.1-py2.py3-none-any.whl (6.5 kB)\n",
      "Downloading filesystems-2024.8.1-py3-none-any.whl (19 kB)\n",
      "Downloading future-1.0.0-py3-none-any.whl (491 kB)\n",
      "Downloading pyrsistent-0.20.0-cp310-cp310-macosx_10_9_universal2.whl (83 kB)\n",
      "Building wheels for collected packages: great, Minion, txmusicbrainz\n",
      "  Building wheel for great (setup.py) ... \u001b[?2done\n",
      "\u001b[?25h  Created wheel for great: filename=great-0.2.0-py3-none-any.whl size=15307 sha256=0cefe58799ded8623d9f39f99caaa35f739ad0700b2aad83e5f8e6060759626f\n",
      "  Stored in directory: /Users/ceciliaperez/Library/Caches/pip/wheels/b0/de/d1/c9378576ebd2de4dd8dfc357f8feff48bf58b1b4437a643c1e\n",
      "  Building wheel for Minion (setup.py) ... \u001b[?25done\n",
      "\u001b[?25h  Created wheel for Minion: filename=minion-0.24.0-py3-none-any.whl size=32645 sha256=6922118fccbc1cdbe3852161b76296372fa44d94cfaf094c205ac1886924f13b\n",
      "  Stored in directory: /Users/ceciliaperez/Library/Caches/pip/wheels/ee/8e/62/b95327e5a60eb2506246941b99116569c64fb1ad36dfd119bc\n",
      "  Building wheel for txmusicbrainz (setup.py) ... \u001b[?25ldone\n",
      "\u001b[?25h  Created wheel for txmusicbrainz: filename=txmusicbrainz-0.1.0-py3-none-any.whl size=3987 sha256=a345036dc39ef4d4d23af13b2bad198fbcd305b5cd2c41fea6575ecef24a8acb\n",
      "  Stored in directory: /Users/ceciliaperez/Library/Caches/pip/wheels/77/6e/57/0f7ef6f4385cd0e5ffb0b0ed8d1029b4070ca6aebe9b1d79fc\n",
      "Successfully built great Minion txmusicbrainz\n",
      "Installing collected packages: txmusicbrainz, pyrsistent, future, aiojobs, Minion, filesystems, expectations, Alchimia, great\n",
      "Successfully installed Alchimia-0.8.1 Minion-0.24.0 aiojobs-0.3.0 expectations-1.0.1 filesystems-2024.8.1 future-1.0.0 great-0.2.0 pyrsistent-0.20.0 txmusicbrainz-0.1.0\n",
      "Note: you may need to restart the kernel to use updated packages.\n"
     ]
    }
   ],
   "source": [
    "pip install great expectations"
   ]
  },
  {
   "cell_type": "code",
   "execution_count": 5,
   "id": "f42e564c-a317-409e-853b-3bb8e660fce0",
   "metadata": {},
   "outputs": [],
   "source": [
    "import great_expectations as ge\n",
    "import pandas as pd\n",
    "import os\n",
    "import sys\n",
    "current_dir = os.getcwd()\n",
    "sys.path.append(os.path.abspath(os.path.join(current_dir, '..')))"
   ]
  },
  {
   "cell_type": "code",
   "execution_count": 7,
   "id": "ef2d6c83-c832-4010-867c-edea8b7b53db",
   "metadata": {},
   "outputs": [
    {
     "name": "stdout",
     "output_type": "stream",
     "text": [
      "EphemeralDataContext\n"
     ]
    }
   ],
   "source": [
    "context = ge.get_context()\n",
    "print(type(context).__name__)"
   ]
  },
  {
   "cell_type": "code",
   "execution_count": 9,
   "id": "4b425cee-266a-4e9e-a82f-da24931aeaac",
   "metadata": {},
   "outputs": [
    {
     "name": "stdout",
     "output_type": "stream",
     "text": [
      "['DOLLAR_SIGN_ESCAPE_STRING', 'GLOBAL_CONFIG_PATHS', '_ETC_CONF_DIR', '_ETC_CONF_FILE', '_ROOT_CONF_DIR', '_ROOT_CONF_FILE', '__abstractmethods__', '__annotations__', '__class__', '__delattr__', '__dict__', '__dir__', '__doc__', '__eq__', '__format__', '__ge__', '__getattribute__', '__gt__', '__hash__', '__init__', '__init_subclass__', '__le__', '__lt__', '__module__', '__ne__', '__new__', '__reduce__', '__reduce_ex__', '__repr__', '__setattr__', '__sizeof__', '__slots__', '__str__', '__subclasshook__', '__weakref__', '_abc_impl', '_add_datasource', '_add_fluent_datasource', '_attach_fluent_config_datasources_and_build_data_connectors', '_build_data_docs', '_build_store_from_config', '_checkpoints', '_clean_data_docs_site', '_config_provider', '_config_variables', '_construct_data_context_id', '_data_context_id', '_data_sources', '_datasource_store', '_datasources', '_delete_fluent_datasource', '_determine_analytics_enabled', '_get_batch_list_from_inputs', '_get_expectation_suite_from_inputs', '_get_global_config_value', '_get_last_batch', '_get_metric_configuration_tuples', '_get_oss_id', '_in_memory_instance_id', '_include_rendered_content', '_init_analytics', '_init_config_provider', '_init_data_source_manager', '_init_datasource_store', '_init_datasources', '_init_primary_stores', '_init_project_config', '_init_site_builder_for_data_docs_site_creation', '_init_variables', '_load_config_variables', '_load_fluent_config', '_load_site_builder_from_site_config', '_normalize_absolute_or_relative_path', '_open_data_docs', '_open_url_in_browser', '_project_config', '_register_providers', '_save_project_config', '_scaffold_root_conf', '_set_oss_id', '_store_metrics', '_stores', '_suite_parameter_dependencies', '_suites', '_synchronize_fluent_datasources', '_update_config_variables', '_update_fluent_datasource', '_user_agent_str', '_validate_add_datasource_args', '_validate_datasource_names', '_validation_definitions', '_variables', '_view_validation_result', 'add_data_docs_site', 'add_datasource', 'add_or_update_datasource', 'add_store', 'build_batch_kwargs', 'build_data_docs', 'checkpoint_store', 'checkpoint_store_name', 'checkpoints', 'clean_data_docs', 'config', 'config_provider', 'config_variables', 'convert_to_file_context', 'data_context_id', 'data_sources', 'datasource_store', 'delete_data_docs_site', 'delete_datasource', 'delete_store', 'enable_analytics', 'escape_all_config_variables', 'expectations_store', 'expectations_store_name', 'fluent_config', 'fluent_datasources', 'get_available_data_asset_names', 'get_config', 'get_config_with_variables_substituted', 'get_datasource', 'get_docs_sites_urls', 'get_last_batch', 'get_or_create_data_context_config', 'get_site_names', 'get_validation_result', 'get_validator', 'get_validator_using_batch_list', 'instance_id', 'list_active_stores', 'list_data_docs_sites', 'list_datasources', 'list_stores', 'mode', 'open_data_docs', 'plugins_directory', 'prepare_checkpoint_run', 'progress_bars', 'project_config_with_variables_substituted', 'root_directory', 'runtime_environment', 'save_config_variable', 'set_config', 'set_user_agent_str', 'store_validation_result_metrics', 'stores', 'suites', 'update_data_docs_site', 'update_datasource', 'update_project_config', 'validation_definition_store', 'validation_definitions', 'validation_results_store', 'validation_results_store_name', 'variables', 'view_validation_result']\n"
     ]
    }
   ],
   "source": [
    "print(dir(context))"
   ]
  },
  {
   "cell_type": "code",
   "execution_count": null,
   "id": "95965d10-1138-40ec-85f5-ac3d113f2bbf",
   "metadata": {},
   "outputs": [],
   "source": []
  }
 ],
 "metadata": {
  "kernelspec": {
   "display_name": "Python [conda env:base] *",
   "language": "python",
   "name": "conda-base-py"
  },
  "language_info": {
   "codemirror_mode": {
    "name": "ipython",
    "version": 3
   },
   "file_extension": ".py",
   "mimetype": "text/x-python",
   "name": "python",
   "nbconvert_exporter": "python",
   "pygments_lexer": "ipython3",
   "version": "3.10.8"
  }
 },
 "nbformat": 4,
 "nbformat_minor": 5
}
